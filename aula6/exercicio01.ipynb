{
 "cells": [
  {
   "cell_type": "code",
   "execution_count": 20,
   "metadata": {},
   "outputs": [],
   "source": [
    "# Importações básicas\n",
    "import numpy as np #trabalha matrizes\n",
    "import pandas as pd #dataframes\n",
    "import matplotlib.pyplot as plt #grafics\n",
    "from gensim.models import Word2Vec #modelo de velorização\n",
    "import gensim.downloader as api \n",
    "from sklearn.manifold import TSNE #framework de treinamento\n",
    "import re #regex\n",
    "import nltk #trabalho com linguagem natural\n",
    "from nltk.tokenize import word_tokenize \n",
    "from nltk.corpus import stopwords\n",
    "import warnings\n",
    "from sklearn.metrics.pairwise import cosine_similarity"
   ]
  },
  {
   "cell_type": "code",
   "execution_count": 21,
   "metadata": {},
   "outputs": [],
   "source": [
    "#Carregando Dados de Exemplo\n",
    "documento1 = \"O filme tem uma história envolvente e atuações convincentes\"\n",
    "documento2 = \"A narrativa do filme é cativante e os atores são excelentes\"\n",
    "documento3 = \"O restaurante tem comida deliciosa e preços acessíveis\""
   ]
  },
  {
   "cell_type": "code",
   "execution_count": 22,
   "metadata": {},
   "outputs": [],
   "source": [
    "#Pré-processamento do Texto\n",
    "\n",
    "def Pre_processamento(texto):\n",
    "    # Remove pontuação e caracteres especiais\n",
    "    texto = re.sub(r'[^a-záàâãéèêíïóôõöúçñ ]', '', texto)\n",
    "    # Converte para minúsculas\n",
    "    texto = texto.lower()\n",
    "\n",
    "    # Tokeniza o texto\n",
    "    tokens = word_tokenize(texto)\n",
    "\n",
    "    # Remover stopwords (opcional, dependendo da aplicação)\n",
    "    stop_words = set(stopwords.words('portuguese'))\n",
    "    tokens = [token for token in tokens if token not in stop_words]\n",
    "\n",
    "\n",
    "    \n",
    "    return tokens"
   ]
  },
  {
   "cell_type": "code",
   "execution_count": 23,
   "metadata": {},
   "outputs": [],
   "source": [
    "# Treinando um Modelo do Zero\n",
    "\n",
    "def preprocess(textos):\n",
    "\n",
    "    # Definir parâmetros do modelo\n",
    "    vector_size = 100    # Dimensionalidade dos vetores\n",
    "    window = 5           # Tamanho da janela de contexto\n",
    "    min_count = 1        # Frequência mínima das palavras\n",
    "    workers = 4          # Número de threads para treinamento\n",
    "    sg = 1               # Modelo Skip-gram (1) ou CBOW (0)\n",
    "\n",
    "    model = Word2Vec(\n",
    "    sentences=textos,\n",
    "    vector_size=vector_size,\n",
    "    window=window,\n",
    "    min_count=min_count,\n",
    "    workers=workers,\n",
    "    sg=sg\n",
    ")\n",
    "    return model\n"
   ]
  },
  {
   "cell_type": "code",
   "execution_count": 24,
   "metadata": {},
   "outputs": [],
   "source": [
    "# Função para calcular vetor médio da frase\n",
    "def frase_para_vetor(frase_tokens, modelo):\n",
    "    vetores = [modelo.wv[p] for p in frase_tokens if p in modelo.wv]\n",
    "    if not vetores:\n",
    "        return np.zeros(modelo.vector_size)\n",
    "    return np.mean(vetores, axis=0)"
   ]
  },
  {
   "cell_type": "code",
   "execution_count": 25,
   "metadata": {},
   "outputs": [],
   "source": [
    "# Pre-processando os documentos\n",
    "documento1 = Pre_processamento(documento1)\n",
    "documento2 = Pre_processamento(documento2)\n",
    "documento3 = Pre_processamento(documento3)"
   ]
  },
  {
   "cell_type": "code",
   "execution_count": 26,
   "metadata": {},
   "outputs": [],
   "source": [
    "# Treinando o modelo com os documentos pré-processados\n",
    "modelo = preprocess([documento1, documento2, documento3])"
   ]
  },
  {
   "cell_type": "code",
   "execution_count": 27,
   "metadata": {},
   "outputs": [],
   "source": [
    "# Convertendo cada frase em vetor\n",
    "vetor1 = frase_para_vetor(documento1,modelo)\n",
    "vetor2 = frase_para_vetor(documento2,modelo)\n",
    "vetor3 = frase_para_vetor(documento3,modelo)"
   ]
  },
  {
   "cell_type": "code",
   "execution_count": 28,
   "metadata": {},
   "outputs": [],
   "source": [
    "# Calculando similaridade entre frases\n",
    "sim12 = cosine_similarity([vetor1], [vetor2])[0][0]\n",
    "sim13 = cosine_similarity([vetor1], [vetor3])[0][0]\n",
    "sim23 = cosine_similarity([vetor2], [vetor3])[0][0]"
   ]
  },
  {
   "cell_type": "code",
   "execution_count": 29,
   "metadata": {},
   "outputs": [
    {
     "name": "stdout",
     "output_type": "stream",
     "text": [
      "Similaridade entre documento1 e documento2: 0.2509\n",
      "Similaridade entre documento1 e documento3: 0.0010\n",
      "Similaridade entre documento2 e documento3: -0.1123\n"
     ]
    }
   ],
   "source": [
    "# Exibindo os resultados\n",
    "print(f\"Similaridade entre documento1 e documento2: {sim12:.4f}\")\n",
    "print(f\"Similaridade entre documento1 e documento3: {sim13:.4f}\")\n",
    "print(f\"Similaridade entre documento2 e documento3: {sim23:.4f}\")"
   ]
  }
 ],
 "metadata": {
  "kernelspec": {
   "display_name": "Python 3",
   "language": "python",
   "name": "python3"
  },
  "language_info": {
   "codemirror_mode": {
    "name": "ipython",
    "version": 3
   },
   "file_extension": ".py",
   "mimetype": "text/x-python",
   "name": "python",
   "nbconvert_exporter": "python",
   "pygments_lexer": "ipython3",
   "version": "3.12.1"
  }
 },
 "nbformat": 4,
 "nbformat_minor": 2
}
